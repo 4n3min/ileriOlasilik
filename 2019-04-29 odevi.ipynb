{
  "nbformat": 4,
  "nbformat_minor": 0,
  "metadata": {
    "colab": {
      "name": "Untitled0.ipynb",
      "version": "0.3.2",
      "provenance": [],
      "collapsed_sections": [],
      "include_colab_link": true
    },
    "kernelspec": {
      "name": "python3",
      "display_name": "Python 3"
    }
  },
  "cells": [
    {
      "cell_type": "markdown",
      "metadata": {
        "id": "view-in-github",
        "colab_type": "text"
      },
      "source": [
        "<a href=\"https://colab.research.google.com/github/4n3min/ileriOlasilik/blob/master/29nisan2019odevi.ipynb\" target=\"_parent\"><img src=\"https://colab.research.google.com/assets/colab-badge.svg\" alt=\"Open In Colab\"/></a>"
      ]
    },
    {
      "cell_type": "code",
      "metadata": {
        "id": "JK6mnl8Sqmhe",
        "colab_type": "code",
        "colab": {}
      },
      "source": [
        "Olasılık Kütle Fonksiyonu Ödevi (29/04/2019 Haftası)\n",
        "\n",
        "\n"
      ],
      "execution_count": 0,
      "outputs": []
    },
    {
      "cell_type": "markdown",
      "metadata": {
        "id": "X-8VR0-4tu7c",
        "colab_type": "text"
      },
      "source": [
        "Bu Olasılık Kutle Fonksiyonunu para atışı üzerinden kısaca açıklarsak şu şekilde olacaktır.\n",
        "\n",
        "X   : istenen durumların sayısı\n",
        "\n",
        "Rx : istenen olası durumların kümesi\n",
        "\n",
        "Px : Olasılık kütle fonksiyonu"
      ]
    },
    {
      "cell_type": "markdown",
      "metadata": {
        "id": "fDP-K6_1ufwn",
        "colab_type": "text"
      },
      "source": [
        "\n",
        "\n",
        "örnek uzayımız şu şekildedir\n",
        "\n",
        "S={TT,TY,YT,YY}\n",
        "\n",
        "Tura gelme adetleri ise\n",
        "\n",
        "Rx={0,1,2} dir.\n"
      ]
    },
    {
      "cell_type": "markdown",
      "metadata": {
        "id": "g5wC1Mp5vNLP",
        "colab_type": "text"
      },
      "source": [
        "Bu örnek sayılabilir kümeye sahip olduğu için olasılık kütle fonksiyonu aşağıdaki gibi olmaktadır.\n",
        "\n",
        "\n",
        "\n",
        "**PX(k)=P(X=k) for k=0,1,2.**\n",
        "\n",
        "**PX(0)=P(X=0)=P(TT)=1/4,**\n",
        "\n",
        "**PX(1)=P(X=1)=P({HT,TH})=1/4+1/4=1/2,**\n",
        "\n",
        "**PX(2)=P(X=2)=P(HH)=1/4. **"
      ]
    },
    {
      "cell_type": "markdown",
      "metadata": {
        "id": "IoqNkVEs9IEE",
        "colab_type": "text"
      },
      "source": [
        "# Python  Örnegi"
      ]
    },
    {
      "cell_type": "code",
      "metadata": {
        "id": "Te6tcn1U9E5e",
        "colab_type": "code",
        "colab": {}
      },
      "source": [
        "\"\"\"\n",
        "\n",
        "İçerisinde Mavi ve Yeşil topların bulunduğu bir torbadan 2 top çekiliyor.\n",
        "Mavi top gelme sayısına ait kesikli olasılık dağılımını bulunuz. \n",
        "Kesikli olasılık dağılımına ait Beklenen Değer \"E[X]\" ve Varyans'ı \"Var[X]\" hesaplayınız.\n",
        "\n",
        "\"\"\"\n",
        "\n",
        "print(__doc__)\n",
        "\n",
        "def calculate(a,b,c):\n",
        "\n",
        "    pX0= (a/c)*((a-1)/(c-1)) #P(X=0)\n",
        "\n",
        "    pX1=(a/c)*(b/(c-1))+(b/c)*(a/(c-1)) #P(X=1)\n",
        "\n",
        "    pX2= (b/c)*((b-1)/(c-1)) #P(X=2)\n",
        "\n",
        "    EX= (0*pX0)+(1*pX1)+(2*pX2) #Expected Value \n",
        "\n",
        "    EX2= ((0**2)*pX0)+((1**2)*pX1)+((2**2)*pX2) #E[X^2] \n",
        "\n",
        "    VX= EX2 - (EX**2) #Variance\n",
        "\n",
        "    rlist=[pX0,pX1,pX2,EX,EX2,VX] \n",
        "\n",
        "    return rlist\n",
        "\n",
        "green=10\n",
        "blue= 7\n",
        "total= green+blue\n",
        "flist=calculate(green,blue,total)\n",
        "\n",
        "print(\"\\n\")\n",
        "print(\"P(X=0) =  \",flist[0])\n",
        "print(\"P(X=1) = \",flist[1])\n",
        "print(\"P(X=2) =  \",flist[2])\n",
        "print(\"E[X] = \",flist[3])\n",
        "print(\"E[X^2] = \",flist[4])\n",
        "print(\"Var[X] = \",flist[5])"
      ],
      "execution_count": 0,
      "outputs": []
    }
  ]
}
