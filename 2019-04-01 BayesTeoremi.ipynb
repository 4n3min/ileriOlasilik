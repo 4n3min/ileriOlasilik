{
  "nbformat": 4,
  "nbformat_minor": 0,
  "metadata": {
    "colab": {
      "name": "Untitled6.ipynb",
      "version": "0.3.2",
      "provenance": [],
      "include_colab_link": true
    },
    "kernelspec": {
      "name": "python3",
      "display_name": "Python 3"
    }
  },
  "cells": [
    {
      "cell_type": "markdown",
      "metadata": {
        "id": "view-in-github",
        "colab_type": "text"
      },
      "source": [
        "<a href=\"https://colab.research.google.com/github/4n3min/ileriOlasilik/blob/master/1nisanBayesTeoremi.ipynb\" target=\"_parent\"><img src=\"https://colab.research.google.com/assets/colab-badge.svg\" alt=\"Open In Colab\"/></a>"
      ]
    },
    {
      "cell_type": "markdown",
      "metadata": {
        "id": "r8DmnYcTsOiW",
        "colab_type": "text"
      },
      "source": [
        "1 nisan *bayes*\n",
        "\n",
        "P(A|B) = B olayı gerçekleştiğinde A olayının gerçekleşme olasılığı\n",
        "\n",
        "P(A) = A olayının gerçekleşme olasılığı\n",
        "\n",
        "P(B|A) = A olayı gerçekleştiğinde B olayının gerçekleşme olasılığı\n",
        "\n",
        "P(B) = B olayının gerçekleşme olasılığı"
      ]
    },
    {
      "cell_type": "code",
      "metadata": {
        "id": "gZ1PebmBsLee",
        "colab_type": "code",
        "colab": {}
      },
      "source": [
        "\"\"\"\n",
        "Bayes Teoremi\n",
        "\n",
        "Tüm e-postaların %60’ı spam, tüm spamların %90’ı sahte üst bilgiye sahiptir.\n",
        "Spam olmayanların %20’si sahte üst bilgiye sahiptir.\n",
        "\n",
        "|               | spam           (60%) | notspam        (40%) |\n",
        "| ------------- | -------------------- | -------------------- |\n",
        "| test_positive | true_positive  (90%) | false_positive (20%) |\n",
        "| test_negative | false_negative (10%) | true_negative  (80%) |\n",
        "\n",
        "Bir e-postanın sahte üst bilgiye sahip olup, spam olma olasılıgı nedir?\n",
        "\"\"\"\n",
        "\n",
        "print(__doc__)\n",
        "\n",
        "SPAM = .6\n",
        "NOTSPAM = 1 - SPAM\n",
        "TRUE_POSITIVE = .9\n",
        "FALSE_POSITIVE = .2\n",
        "\n",
        "FACT = SPAM * TRUE_POSITIVE  # Olay uzayı\n",
        "SAMPLE = NOTSPAM * FALSE_POSITIVE + FACT  # Örnek uzay\n",
        "\n",
        "P = FACT / SAMPLE  # Olasılık değeri\n",
        "RESULT = P * 100\n",
        "\n",
        "\n",
        "print(\"\\nE-postalarda spam mail olma olasılığı yüzde {RESULT} olacaktır.\".format (RESULT=RESULT))"
      ],
      "execution_count": 0,
      "outputs": []
    }
  ]
}
