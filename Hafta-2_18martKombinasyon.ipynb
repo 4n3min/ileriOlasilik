{
  "nbformat": 4,
  "nbformat_minor": 0,
  "metadata": {
    "colab": {
      "name": "Untitled4.ipynb",
      "version": "0.3.2",
      "provenance": [],
      "include_colab_link": true
    },
    "kernelspec": {
      "name": "python3",
      "display_name": "Python 3"
    }
  },
  "cells": [
    {
      "cell_type": "markdown",
      "metadata": {
        "id": "view-in-github",
        "colab_type": "text"
      },
      "source": [
        "<a href=\"https://colab.research.google.com/github/4n3min/ileriOlasilik/blob/master/18martKombinasyon.ipynb\" target=\"_parent\"><img src=\"https://colab.research.google.com/assets/colab-badge.svg\" alt=\"Open In Colab\"/></a>"
      ]
    },
    {
      "cell_type": "markdown",
      "metadata": {
        "id": "041kq1rTpxwa",
        "colab_type": "text"
      },
      "source": [
        "18 mart kombinasyon odevi"
      ]
    },
    {
      "cell_type": "code",
      "metadata": {
        "id": "XnkxkTgnpyPn",
        "colab_type": "code",
        "colab": {}
      },
      "source": [
        "\n",
        "\n",
        "#Faktoriyel fonksiyonu\n",
        "def faktoriyel(x):\n",
        "\tx= int(x)\n",
        "\tfaktoriyel_sonuc=1\n",
        "\tfor i in range(1,x+1):\n",
        "\t\tfaktoriyel_sonuc*=i\n",
        "\treturn faktoriyel_sonuc\n",
        "\n",
        "#Kombinasyon fonksiyomu\n",
        "def kombinasyon(x,y):\n",
        "    kombinasyon_sonuc=faktoriyel(x)/(faktoriyel(y)*faktoriyel(x-y))\n",
        "    return kombinasyon_sonuc\n",
        "\n",
        "#ornek soru\n",
        "print(\"Bir torbada 3 mavi, 4 kirmizi, 5 yesil top vardir. \\n Torbadan 3 top cekildiginde ucununde farkli renkte olma olasiligi:\\n\")\n",
        "\n",
        "#Degerlerin atanmasi\n",
        "mavi = 3.0\n",
        "kirmizi = 4.0\n",
        "yesil = 5.0\n",
        "toplam = mavi + yesil + kirmizi\n",
        "\n",
        "#Her bir topun kombinasyonlarin capriminin toplam duruma bolunmesi ile olusan olasiligin hesaplanmasi\n",
        "print(\"Islem sonucu:\",float(kombinasyon(float(mavi),1)*kombinasyon(float(kirmizi),1)*kombinasyon(float(yesil),1)/kombinasyon(float(toplam),3)))\n"
      ],
      "execution_count": 0,
      "outputs": []
    }
  ]
}
