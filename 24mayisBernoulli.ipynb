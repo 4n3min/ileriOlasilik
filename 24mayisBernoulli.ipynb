{
  "nbformat": 4,
  "nbformat_minor": 0,
  "metadata": {
    "colab": {
      "name": "Untitled2.ipynb",
      "version": "0.3.2",
      "provenance": [],
      "include_colab_link": true
    },
    "kernelspec": {
      "name": "python3",
      "display_name": "Python 3"
    }
  },
  "cells": [
    {
      "cell_type": "markdown",
      "metadata": {
        "id": "view-in-github",
        "colab_type": "text"
      },
      "source": [
        "<a href=\"https://colab.research.google.com/github/4n3min/ileriOlasilik/blob/master/24mayisBernoulli.ipynb\" target=\"_parent\"><img src=\"https://colab.research.google.com/assets/colab-badge.svg\" alt=\"Open In Colab\"/></a>"
      ]
    },
    {
      "cell_type": "markdown",
      "metadata": {
        "id": "iSV3M2PEj501",
        "colab_type": "text"
      },
      "source": [
        "# Bernoulli Odevi\n"
      ]
    },
    {
      "cell_type": "code",
      "metadata": {
        "id": "SCFAfhrvj6E_",
        "colab_type": "code",
        "colab": {}
      },
      "source": [
        "\"\"\"\n",
        "\n",
        " \n",
        "Kesikli olasılık dağılımına ait Beklenen Değer \"E[X]\" ve Varyans'ı \"Var[X]\" hesaplayınız.\n",
        "\n",
        "\"\"\"\n",
        "\n",
        "print(__doc__)\n",
        "\n",
        "def calculate(a,b,c):\n",
        "\n",
        "    pX0= (a/c)*((a-1)/(c-1)) #P(X=0)\n",
        "\n",
        "    pX1=(a/c)*(b/(c-1))+(b/c)*(a/(c-1)) #P(X=1)\n",
        "\n",
        "    pX2= (b/c)*((b-1)/(c-1)) #P(X=2)\n",
        "\n",
        "    EX= (0*pX0)+(1*pX1)+(2*pX2) #Expected Value \n",
        "\n",
        "    EX2= ((0**2)*pX0)+((1**2)*pX1)+((2**2)*pX2) #E[X^2] \n",
        "\n",
        "    VX= EX2 - (EX**2) #Variance\n",
        "\n",
        "    rlist=[pX0,pX1,pX2,EX,EX2,VX] \n",
        "\n",
        "    return rlist\n",
        "\n",
        "green=10\n",
        "blue= 7\n",
        "total= green+blue\n",
        "flist=calculate(green,blue,total)\n",
        "\n",
        "print(\"\\n\")\n",
        "print(\"P(X=0) =  \",flist[0])\n",
        "print(\"P(X=1) = \",flist[1])\n",
        "print(\"P(X=2) =  \",flist[2])\n",
        "print(\"E[X] = \",flist[3])\n",
        "print(\"E[X^2] = \",flist[4])\n",
        "print(\"Var[X] = \",flist[5])"
      ],
      "execution_count": 0,
      "outputs": []
    }
  ]
}