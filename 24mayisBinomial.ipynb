{
  "nbformat": 4,
  "nbformat_minor": 0,
  "metadata": {
    "colab": {
      "name": "Untitled1.ipynb",
      "version": "0.3.2",
      "provenance": [],
      "include_colab_link": true
    },
    "kernelspec": {
      "name": "python3",
      "display_name": "Python 3"
    }
  },
  "cells": [
    {
      "cell_type": "markdown",
      "metadata": {
        "id": "view-in-github",
        "colab_type": "text"
      },
      "source": [
        "<a href=\"https://colab.research.google.com/github/4n3min/ileriOlasilik/blob/master/Binomial24mayis.ipynb\" target=\"_parent\"><img src=\"https://colab.research.google.com/assets/colab-badge.svg\" alt=\"Open In Colab\"/></a>"
      ]
    },
    {
      "cell_type": "markdown",
      "metadata": {
        "id": "nyLwbmZYg5qY",
        "colab_type": "text"
      },
      "source": [
        "# **Binomials Odevi**\n",
        "\n",
        "10 kutu ilaç içerisinde 5 kutu aspirin bulunmaktadır. Bu ilaçlar içerisinde 3 kutu seçilmektedir. \n",
        "2 kutunun aspirin olma olasılığı nedir? \n",
        "\n"
      ]
    },
    {
      "cell_type": "code",
      "metadata": {
        "id": "eb5l98QSg0i5",
        "colab_type": "code",
        "colab": {}
      },
      "source": [
        "'''\n",
        "10 kutu ilaç içerisinde 5 kutu aspirin bulunmaktadır.\n",
        "Bu ilaçlar içerisinde 3 kutu seçilmektedir. \n",
        "2 kutunun aspirin olma olasılığı nedir?\n",
        "'''\n",
        "\n",
        "print(__doc__)\n",
        "\n",
        "def faktoriyel(x):\n",
        "\tx= int(x)\n",
        "\tfaktoriyel_sonuc=1\n",
        "\tfor i in range(1,x+1):\n",
        "\t\tfaktoriyel_sonuc*=i\n",
        "\treturn faktoriyel_sonuc\n",
        "\n",
        "#Kombinasyon fonksiyomu\n",
        "def kombinasyon(x,y):\n",
        "    kombinasyon_sonuc=faktoriyel(x)/(faktoriyel(y)*faktoriyel(x-y))\n",
        "    return kombinasyon_sonuc\n",
        "\n",
        "def binomialProbability(n,k,p):\n",
        "\treturn kombinasyon(n,k)*p**k*(1-p)**(n-k)\n",
        "\n",
        "print(\"Alınan iki kutunun aspirin olma olasılığı: {RESULT} \" .format (RESULT=binomialProbability(3,2,0.5))"
      ],
      "execution_count": 0,
      "outputs": []
    }
  ]
}
