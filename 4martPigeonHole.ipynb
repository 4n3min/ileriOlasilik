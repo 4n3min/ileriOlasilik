{
  "nbformat": 4,
  "nbformat_minor": 0,
  "metadata": {
    "colab": {
      "name": "Untitled6.ipynb",
      "version": "0.3.2",
      "provenance": [],
      "include_colab_link": true
    },
    "kernelspec": {
      "name": "python3",
      "display_name": "Python 3"
    }
  },
  "cells": [
    {
      "cell_type": "markdown",
      "metadata": {
        "id": "view-in-github",
        "colab_type": "text"
      },
      "source": [
        "<a href=\"https://colab.research.google.com/github/4n3min/ileriOlasilik/blob/master/4martPigeonHole.ipynb\" target=\"_parent\"><img src=\"https://colab.research.google.com/assets/colab-badge.svg\" alt=\"Open In Colab\"/></a>"
      ]
    },
    {
      "cell_type": "markdown",
      "metadata": {
        "id": "r8DmnYcTsOiW",
        "colab_type": "text"
      },
      "source": [
        "4 mart 2019"
      ]
    },
    {
      "cell_type": "code",
      "metadata": {
        "id": "gZ1PebmBsLee",
        "colab_type": "code",
        "colab": {}
      },
      "source": [
        "'''\n",
        "Bir torbada 10 Kırmızı, 10 mavi, 10 yeşil top olsun. Bu torbadan rastgele toplar seçiliyor.\n",
        "4 tane topun ayni renk olmasi için en az kac top seçilmelidir?\n",
        "'''\n",
        "print(__doc__)\n",
        "import math\n",
        "\n",
        "renk=3 # toplam renk adedi(yuva)\n",
        "kalem=3\n",
        "k= kalem+1 # seçilecek kalem sayısı Guvercin yuvası ilkesine gore 3+1 olacaktır.\n",
        "\n",
        "enAzTop = math.ceil((renk*kalem+1)/renk)\n",
        "print('Seçilmesi gereken top adeti :' ,enAzTop)"
      ],
      "execution_count": 0,
      "outputs": []
    }
  ]
}