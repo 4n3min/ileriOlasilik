{
  "nbformat": 4,
  "nbformat_minor": 0,
  "metadata": {
    "colab": {
      "name": "Untitled5.ipynb",
      "version": "0.3.2",
      "provenance": [],
      "include_colab_link": true
    },
    "kernelspec": {
      "name": "python3",
      "display_name": "Python 3"
    }
  },
  "cells": [
    {
      "cell_type": "markdown",
      "metadata": {
        "id": "view-in-github",
        "colab_type": "text"
      },
      "source": [
        "<a href=\"https://colab.research.google.com/github/4n3min/ileriOlasilik/blob/master/18martPermutasyon.ipynb\" target=\"_parent\"><img src=\"https://colab.research.google.com/assets/colab-badge.svg\" alt=\"Open In Colab\"/></a>"
      ]
    },
    {
      "cell_type": "markdown",
      "metadata": {
        "id": "-Jj8D0YQqWkq",
        "colab_type": "text"
      },
      "source": [
        "18martPermutasyon"
      ]
    },
    {
      "cell_type": "code",
      "metadata": {
        "id": "hPeXqznyqWxj",
        "colab_type": "code",
        "colab": {}
      },
      "source": [
        "#Bu kod parcasinda kullanicidan alinan bir sayiya gore parolanin rakamlarinin birbirinden fakli\n",
        "#olma olasiligi hesaplanmistir\n",
        "\n",
        "#Faktoriyel fonksiyonu\n",
        "def faktoriyel(x):\n",
        "    x = int(x)\n",
        "    faktoriyel_sonuc = 1\n",
        "    for i in range(1, x + 1):\n",
        "        faktoriyel_sonuc *= i\n",
        "    return faktoriyel_sonuc\n",
        "\n",
        "#Permutasyon fonksiyonu\n",
        "def permutasyon(x, y):\n",
        "    permutasyon_sonuc = faktoriyel(x) / faktoriyel(x - y)\n",
        "    return permutasyon_sonuc\n",
        "\n",
        "\n",
        "print(\"\\n\\n0 dan 9 a kadar olan rakamlardan olusan N haneli sifrenin farklı rakamlardan olusma olasiligi hesaplama...\")\n",
        "n = float(input(\"Istenilen parola icin hane sayisini giriniz: \"))\n",
        "\n",
        "#Bu kisimda basamak sayisi rakam sayisindan fazla olmasi durumudur ve olasiligi\n",
        "while n > 10:\n",
        "    print(\"\\nHane sayisi rakam adetinden fazla oldugu icin sarti saglamayacaktir.\")\n",
        "    print(\"\\nBu durumda en az 1 rakam ayni olusacaktir.\")\n",
        "\n",
        "    n = int(input(\"Hesaplamak icin parola hanesini tekrar giriniz: \"))\n",
        "\n",
        "#Olasilik hesabi icin 10'un n'lisini permutasyonunu ornek uzaya bolmek satriyla hesaplanmistir.\n",
        "print(\"\\n Islem Sonucu: \", (permutasyon(10, n) / 10 ** n))"
      ],
      "execution_count": 0,
      "outputs": []
    }
  ]
}